{
 "cells": [
  {
   "cell_type": "code",
   "execution_count": 6,
   "metadata": {},
   "outputs": [],
   "source": [
    "import os\n",
    "OPENAI_API_KEY = os.environ[\"OPENAI_API_KEY\"]\n",
    "\n",
    "from llama_index.agent.openai import OpenAIAgent\n",
    "from llama_index.llms.openai import OpenAI\n",
    "from llama_index.core.prompts.system import DEFAULT\n",
    "\n",
    "from llama_index.core.llms import ChatMessage\n",
    "from llama_index.core.tools import BaseTool, FunctionTool\n",
    "from openai.types.chat import ChatCompletionMessageToolCall\n",
    "\n",
    "import nest_asyncio\n",
    "\n",
    "nest_asyncio.apply()"
   ]
  },
  {
   "cell_type": "code",
   "execution_count": 7,
   "metadata": {},
   "outputs": [],
   "source": [
    "def multiply(a: int, b: int) -> int:\n",
    "    \"\"\"Multiple two integers and returns the result integer\"\"\"\n",
    "    return a * b\n",
    "\n",
    "\n",
    "multiply_tool = FunctionTool.from_defaults(fn=multiply)\n",
    "def add(a: int, b: int) -> int:\n",
    "    \"\"\"Add two integers and returns the result integer\"\"\"\n",
    "    return a + b\n",
    "\n",
    "\n",
    "add_tool = FunctionTool.from_defaults(fn=add)"
   ]
  },
  {
   "cell_type": "code",
   "execution_count": 9,
   "metadata": {},
   "outputs": [
    {
     "name": "stdout",
     "output_type": "stream",
     "text": [
      "Added user message to memory: What is (121 * 3) + 42?\n",
      "=== Calling Function ===\n",
      "Calling function: multiply with args: {\"a\": 121, \"b\": 3}\n",
      "Got output: 363\n",
      "========================\n",
      "\n",
      "=== Calling Function ===\n",
      "Calling function: add with args: {\"a\": 363, \"b\": 42}\n",
      "Got output: 405\n",
      "========================\n",
      "\n",
      "The result of (121 * 3) + 42 is 405.\n"
     ]
    }
   ],
   "source": [
    "\n",
    "llm = OpenAI(model=\"gpt-3.5-turbo\")\n",
    "agent = OpenAIAgent.from_tools(\n",
    "    [multiply_tool, add_tool], llm=llm, verbose=True\n",
    ")\n",
    "response = agent.chat(\"What is (121 * 3) + 42?\")\n",
    "print(str(response))"
   ]
  },
  {
   "cell_type": "code",
   "execution_count": 14,
   "metadata": {},
   "outputs": [],
   "source": [
    "import wikipedia\n",
    "from pydantic import BaseModel\n",
    "from llama_index.core.tools import FunctionTool\n",
    "from llama_index.llms.openai import OpenAI\n",
    "from typing import Dict\n",
    "\n",
    "# class WikiSearchResult(BaseModel):\n",
    "#     title: str\n",
    "#     url: str\n",
    "\n",
    "# class WikiArticle(BaseModel):\n",
    "#     title: str\n",
    "#     content: str\n",
    "#     url: str\n",
    "\n",
    "def wikipedia_similar_articles(query: str) -> list[Dict[str,str]]:\n",
    "    \"\"\"Search Wikipedia for articles similar to the given query and return titles and URLs.\"\"\"\n",
    "    search_results = wikipedia.search(query, results=5)\n",
    "    result_list = []\n",
    "    for result in search_results:\n",
    "        try:\n",
    "            page = wikipedia.page(result)\n",
    "            result_list.append({\"title\": page.title, \"url\": page.url})\n",
    "        except wikipedia.exceptions.DisambiguationError as e:\n",
    "            # Handle disambiguation pages by logging or ignoring\n",
    "            print(f\"Disambiguation page: {e.options}\")\n",
    "        except wikipedia.exceptions.PageError:\n",
    "            print(f\"PageError: {result}\")\n",
    "    return result_list\n",
    "\n",
    "\n",
    "\n",
    "def wikipedia_full_article(query: str) -> Dict[str,str]:\n",
    "    \"\"\"Fetch the full Wikipedia article for the given query.\"\"\"\n",
    "    try:\n",
    "        page = wikipedia.page(query)\n",
    "        return {\"title\": page.title, \"content\": page.content, \"url\": page.url}\n",
    "    except wikipedia.exceptions.DisambiguationError as e:\n",
    "        # Handle disambiguation pages\n",
    "        print(f\"Disambiguation page: {e.options}\")\n",
    "    except wikipedia.exceptions.PageError:\n",
    "        print(f\"PageError: {query}\")\n",
    "    return None\n",
    "\n",
    "# Wrap these functions in a tool\n",
    "similar_articles_tool = FunctionTool.from_defaults(fn=wikipedia_similar_articles)\n",
    "full_article_tool = FunctionTool.from_defaults(fn=wikipedia_full_article)"
   ]
  },
  {
   "cell_type": "code",
   "execution_count": 15,
   "metadata": {},
   "outputs": [],
   "source": [
    "\n",
    "llm = OpenAI(model=\"gpt-3.5-turbo\")\n",
    "\n",
    "agent = OpenAIAgent.from_tools(\n",
    "    [similar_articles_tool, full_article_tool],\n",
    "    llm=llm,\n",
    "    verbose=True,\n",
    "    system_prompt=DEFAULT,\n",
    ")"
   ]
  },
  {
   "cell_type": "code",
   "execution_count": 16,
   "metadata": {},
   "outputs": [
    {
     "name": "stdout",
     "output_type": "stream",
     "text": [
      "Added user message to memory: Wassssssup\n",
      "Hello! How can I assist you today?\n"
     ]
    }
   ],
   "source": [
    "\n",
    "response = agent.chat(\"Wassssssup\")\n",
    "print(response)"
   ]
  },
  {
   "cell_type": "code",
   "execution_count": 17,
   "metadata": {},
   "outputs": [
    {
     "name": "stdout",
     "output_type": "stream",
     "text": [
      "Added user message to memory: Tell me about the Eiffel Tower\n",
      "=== Calling Function ===\n",
      "Calling function: wikipedia_full_article with args: {\"query\":\"Eiffel Tower\"}\n",
      "Got output: {'title': 'Eiffel Tower', 'content': 'The Eiffel Tower (  EYE-fəl; French: Tour Eiffel [tuʁ ɛfɛl] ) is a wrought-iron lattice tower on the Champ de Mars in Paris, France. It is named after the engineer Gustave Eiffel, whose company designed and built the tower from 1887 to 1889.\\nLocally nicknamed \"La dame de fer\" (French for \"Iron Lady\"), it was constructed as the centerpiece of the 1889 World\\'s Fair, and to crown the centennial anniversary of the French Revolution. Although initially criticised by some of France\\'s leading artists and intellectuals for its design, it has since become a global cultural icon of France and one of the most recognisable structures in the world.  The tower received 5,889,000 visitors in 2022. The Eiffel Tower is the most visited monument with an entrance fee in the world: 6.91 million people ascended it in 2015. It was designated a monument historique in 1964, and was named part of a UNESCO World Heritage Site (\"Paris, Banks of the Seine\") in 1991.\\nThe tower is 330 metres (1,083 ft) tall, about the same height as an 81-storey building, and the tallest structure in Paris. Its base is square, measuring 125 metres (410 ft) on each side. During its construction, the Eiffel Tower surpassed the Washington Monument to become the tallest human-made structure in the world, a title it held for 41 years until the Chrysler Building in New York City was finished in 1930. It was the first structure in the world to surpass both the 200-metre and 300-metre mark in height. Due to the addition of a broadcasting aerial at the top of the tower in 1957, it is now taller than the Chrysler Building by 5.2 metres (17 ft). Excluding transmitters, the Eiffel Tower is the second tallest free-standing structure in France after the Millau Viaduct.\\nThe tower has three levels for visitors, with restaurants on the first and second levels. The top level\\'s upper platform is 276 m (906 ft) above the ground – the highest observation deck accessible to the public in the European Union. Tickets can be purchased to ascend by stairs or lift to the first and second levels. The climb from ground level to the first level is over 300 steps, as is the climb from the first level to the second, making the entire ascent a 600 step climb. Although there is a staircase to the top level, it is usually accessible only by lift. On this top, third level is a private apartment built for Gustave Eiffel\\'s private use. He decorated it with furniture by Jean Lachaise and invited friends such as Thomas Edison.\\n\\n\\n== History ==\\n\\n\\n=== Origin ===\\nThe design of the Eiffel Tower is attributed to Maurice Koechlin and Émile Nouguier, two senior engineers working for the Compagnie des Établissements Eiffel. It was envisioned after discussion about a suitable centerpiece for the proposed 1889 Exposition Universelle, a world\\'s fair to celebrate the centennial of the French Revolution. In May 1884, working at home, Koechlin made a sketch of their idea, described by him as \"a great pylon, consisting of four lattice girders standing apart at the base and coming together at the top, joined together by metal trusses at regular intervals\". Eiffel initially showed little enthusiasm, but he did approve further study, and the two engineers then asked Stephen Sauvestre, the head of the company\\'s architectural department, to contribute to the design. Sauvestre added decorative arches to the base of the tower, a glass pavilion to the first level, and other embellishments.\\n\\nThe new version gained Eiffel\\'s support: he bought the rights to the patent on the design which Koechlin, Nouguier, and Sauvestre had taken out, and the design was put on display at the Exhibition of Decorative Arts in the autumn of 1884 under the company name. On 30 March 1885, Eiffel presented his plans to the Société des Ingénieurs Civils; after discussing the technical problems and emphasising the practical uses of the tower, he finished his talk by saying the tower would symbolise [n]ot only the art of the modern engineer, but also the century of Industry and Science in which we are living, and for which the way was prepared by the great scientific movement of the eighteenth century and by the Revolution of 1789, to which this monument will be built as an expression of France\\'s gratitude.\\nLittle progress was made until 1886, when Jules Grévy was re-elected as president of France and Édouard Lockroy was appointed as minister for trade. A budget for the exposition was passed and, on 1 May, Lockroy announced an alteration to the terms of the open competition being held for a centrepiece to the exposition, which effectively made the selection of Eiffel\\'s design a foregone conclusion, as entries had to include a study for a 300 m (980 ft) four-sided metal tower on the Champ de Mars. (A 300-metre tower was then considered a herculean engineering effort.) On 12 May, a commission was set up to examine Eiffel\\'s scheme and its rivals, which, a month later, decided that all the proposals except Eiffel\\'s were either impractical or lacking in details.\\nAfter some debate about the exact location of the tower, a contract was signed on 8 January 1887. Eiffel signed it acting in his own capacity rather than as the representative of his company, the contract granting him 1.5 million francs toward the construction costs: less than a quarter of the estimated 6.5 million francs. Eiffel was to receive all income from the commercial exploitation of the tower during the exhibition and for the next 20 years. He later established a separate company to manage the tower, putting up half the necessary capital himself.\\nA French bank, the Crédit Industriel et Commercial (CIC), helped finance the construction of the Eiffel Tower. During the period of the tower\\'s construction, the CIC was acquiring funds from predatory loans to the National Bank of Haiti, some of which went towards the financing of the tower. These loans were connected to an indemnity controversy which saw France force Haiti\\'s government to financially compensate French slaveowners for lost income as a result of the Haitian Revolution, and required Haiti to pay the CIC and its partner nearly half of all taxes collected on exports, \"effectively choking off the nation\\'s primary source of income\". According to The New York Times, \"[at] a time when the [CIC] was helping finance one of the world\\'s best-known landmarks, the Eiffel Tower, as a monument to French liberty, it was choking Haiti\\'s economy, taking much of the young nation\\'s income back to Paris and impairing its ability to start schools, hospitals and the other building blocks of an independent country.\"\\n\\n\\n=== Artists\\' protest ===\\n\\nThe proposed tower had been a subject of controversy, drawing criticism from those who did not believe it was feasible and those who objected on artistic grounds. Prior to the Eiffel Tower\\'s construction, no structure had ever been constructed to a height of 300 m, or even 200 m for that matter, and many people believed it was impossible. These objections were an expression of a long-standing debate in France about the relationship between architecture and engineering. It came to a head as work began at the Champ de Mars: a \"Committee of Three Hundred\" (one member for each metre of the tower\\'s height) was formed, led by the prominent architect Charles Garnier and including some of the most important figures of the arts, such as William-Adolphe Bouguereau, Guy de Maupassant, Charles Gounod and Jules Massenet. A petition called \"Artists against the Eiffel Tower\" was sent to the Minister of Works and Commissioner for the Exposition, Adolphe Alphand, and it was published by Le Temps on 14 February 1887:\\n\\nWe, writers, painters, sculptors, architects and passionate devotees of the hitherto untouched beauty of Paris, protest with all our strength, with all our indignation in the name of slighted French taste, against the erection ... of this useless and monstrous Eiffel Tower ... To bring our arguments home, imagine for a moment a giddy, ridiculous tower dominating Paris like a gigantic black smokestack, crushing under its barbaric bulk Notre Dame, the Tour Saint-Jacques, the Louvre, the Dome of les Invalides, the Arc de Triomphe, all of our humiliated monuments will disappear in this ghastly dream. And for twenty years ... we shall see stretching like a blot of ink the hateful shadow of the hateful column of bolted sheet metal.\\n\\nGustave Eiffel responded to these criticisms by comparing his tower to the Egyptian pyramids: \"My tower will be the tallest edifice ever erected by man. Will it not also be grandiose in its way? And why would something admirable in Egypt become hideous and ridiculous in Paris?\" These criticisms were also dealt with by Édouard Lockroy in a letter of support written to Alphand, sardonically saying, \"Judging by the stately swell of the rhythms, the beauty of the metaphors, the elegance of its delicate and precise style, one can tell this protest is the result of collaboration of the most famous writers and poets of our time\", and he explained that the protest was irrelevant since the project had been decided upon months before, and construction on the tower was already under way.\\nIndeed, Garnier was a member of the Tower Commission that had examined the various proposals, and had raised no objection. Eiffel was similarly unworried, pointing out to a journalist that it was premature to judge the effect of the tower solely on the basis of the drawings, that the Champ de Mars was distant enough from the monuments mentioned in the protest for there to be little risk of the tower overwhelming them, and putting the aesthetic argument for the tower: \"Do not the laws of natural forces always conform to the secret laws of harmony?\"\\nSome of the protesters changed their minds when the tower was built; others remained unconvinced. Guy de Maupassant supposedly ate lunch in the tower\\'s restaurant every day because it was the one place in Paris where the tower was not visible.\\nBy 1918, it had become a symbol of Paris and of France after Guillaume Apollinaire wrote a nationalist poem in the shape of the tower (a calligram) to express his feelings about the war against Germany. Today, it is widely considered to be a remarkable piece of structural art, and is often featured in films and literature.\\n\\n\\n=== Construction ===\\n\\nWork on the foundations started on 28 January 1887. Those for the east and south legs were straightforward, with each leg resting on four 2 m (6.6 ft) concrete slabs, one for each of the principal girders of each leg. The west and north legs, being closer to the river Seine, were more complicated: each slab needed two piles installed by using compressed-air caissons 15 m (49 ft) long and 6 m (20 ft) in diameter driven to a depth of 22 m (72 ft) to support the concrete slabs, which were 6 m (20 ft) thick. Each of these slabs supported a block of limestone with an inclined top to bear a supporting shoe for the ironwork.\\nEach shoe was anchored to the stonework by a pair of bolts 10 cm (4 in) in diameter and 7.5 m (25 ft) long. The foundations were completed on 30 June, and the erection of the ironwork began. The visible work on-site was complemented by the enormous amount of exacting preparatory work that took place behind the scenes: the drawing office produced 1,700 general drawings and 3,629 detailed drawings of the 18,038 different parts needed. The task of drawing the components was complicated by the complex angles involved in the design and the degree of precision required: the position of rivet holes was specified to within 1 mm (0.04 in) and angles worked out to one second of arc. The finished components, some already riveted together into sub-assemblies, arrived on horse-drawn carts from a factory in the nearby Parisian suburb of Levallois-Perret and were first bolted together, with the bolts being replaced with rivets as construction progressed. No drilling or shaping was done on site: if any part did not fit, it was sent back to the factory for alteration. In all, 18,038 pieces were joined using 2.5 million rivets.\\nAt first, the legs were constructed as cantilevers, but about halfway to the first level construction was paused to create a substantial timber scaffold. This renewed concerns about the structural integrity of the tower, and sensational headlines such as \"Eiffel Suicide!\" and \"Gustave Eiffel Has Gone Mad: He Has Been Confined in an Asylum\" appeared in the tabloid press. Multiple famous artists of that time, Charles Garnier and Alexander Dumas, thought poorly of the newly made tower. Charles Garnier thought it was a \"truly tragic street lamp\". Alexander Dumas said that it was like \"Odius shadow of the odious column built of rivets and iron plates extending like a black blot\". There were multiple protests over the style and the reasoning of placing it in the middle of Paris. At this stage, a small \"creeper\" crane designed to move up the tower was installed in each leg. They made use of the guides for the lifts which were to be fitted in the four legs. The critical stage of joining the legs at the first level was completed by the end of March 1888. Although the metalwork had been prepared with the utmost attention to detail, provision had been made to carry out small adjustments to precisely align the legs; hydraulic jacks were fitted to the shoes at the base of each leg, capable of exerting a force of 800 tonnes, and the legs were intentionally constructed at a slightly steeper angle than necessary, being supported by sandboxes on the scaffold. Although construction involved 300 on-site employees, due to Eiffel\\'s safety precautions and the use of movable gangways, guardrails and screens, only one person died.\\n\\n\\t\\t\\n\\t\\t\\t\\n\\t\\t\\t\\n\\t\\t\\n\\t\\t\\n\\t\\t\\t\\n\\t\\t\\t\\n\\t\\t\\n\\t\\t\\n\\t\\t\\t\\n\\t\\t\\t\\n\\t\\t\\n\\t\\t\\n\\t\\t\\t\\n\\t\\t\\t\\n\\t\\t\\n\\t\\t\\n\\t\\t\\t\\n\\t\\t\\t\\n\\t\\t\\n\\t\\t\\n\\t\\t\\t\\n\\t\\t\\t\\n\\t\\t\\n\\t\\t\\n\\t\\t\\t\\n\\t\\t\\t\\n\\t\\t\\n\\n\\n=== Inauguration and the 1889 exposition ===\\n\\nThe main structural work was completed at the end of March 1889 and, on 31 March, Eiffel celebrated by leading a group of government officials, accompanied by representatives of the press, to the top of the tower. Because the lifts were not yet in operation, the ascent was made by foot, and took over an hour, with Eiffel stopping frequently to explain various features. Most of the party chose to stop at the lower levels, but a few, including the structural engineer, Émile Nouguier, the head of construction, Jean Compagnon, the President of the City Council, and reporters from Le Figaro and Le Monde Illustré, completed the ascent. At 2:35 pm, Eiffel hoisted a large Tricolour to the accompaniment of a 25-gun salute fired at the first level.\\nThere was still work to be done, particularly on the lifts and facilities, and the tower was not opened to the public until nine days after the opening of the exposition on 6 May; even then, the lifts had not been completed. The tower was an instant success with the public, and nearly 30,000 visitors made the 1,710-step climb to the top before the lifts entered service on 26 May.\\nTickets cost 2 francs for the first level, 3 for the second, and 5 for the top, with half-price admission on Sundays, and by the end of the exhibition there had been 1,896,987 visitors.\\nAfter dark, the tower was lit by hundreds of gas lamps, and a beacon sent out three beams of red, white and blue light. Two searchlights mounted on a circular rail were used to illuminate various buildings of the exposition. The daily opening and closing of the exposition were announced by a cannon at the top.\\n\\nOn the second level, the French newspaper Le Figaro had an office and a printing press, where a special souvenir edition, Le Figaro de la Tour, was made.\\nAt the top, there was a post office where visitors could send letters and postcards as a memento of their visit. Graffitists were also catered for: sheets of paper were mounted on the walls each day for visitors to record their impressions of the tower. Gustave Eiffel described the collection of responses as \"truly curious\".\\n\\nFamous visitors to the tower included the Prince of Wales, Sarah Bernhardt, \"Buffalo Bill\" Cody (his Wild West show was an attraction at the exposition) and Thomas Edison. Eiffel invited Edison to his private apartment at the top of the tower, where Edison presented him with one of his phonographs, a new invention and one of the many highlights of the exposition. Edison signed the guestbook with this message: To M Eiffel the Engineer the brave builder of so gigantic and original specimen of modern Engineering from one who has the greatest respect and admiration for all Engineers including the Great Engineer the Bon Dieu, Thomas Edison.\\nEiffel made use of his apartment at the top of the tower to carry out meteorological observations, and also used the tower to perform experiments on the action of air resistance on falling bodies.\\n\\n\\n=== Subsequent events ===\\n\\nEiffel had a permit for the tower to stand for 20 years. It was to be dismantled in 1909, when its ownership would revert to the City of Paris. The city had planned to tear it down (part of the original contest rules for designing a tower was that it should be easy to dismantle) but as the tower proved to be valuable for many innovations in the early 20th century, particularly radio telegraphy, it was allowed to remain after the expiry of the permit, and from 1910 it also became part of the International Time Service.\\nFor the 1900 Exposition Universelle, the lifts in the east and west legs were replaced by lifts running as far as the second level constructed by the French firm Fives-Lille. These had a compensating mechanism to keep the floor level as the angle of ascent changed at the first level, and were driven by a similar hydraulic mechanism as the Otis lifts, although this was situated at the base of the tower. Hydraulic pressure was provided by pressurised accumulators located near this mechanism. At the same time the lift in the north pillar was removed and replaced by a staircase to the first level. The layout of both first and second levels was modified, with the space available for visitors on the second level. The original lift in the south pillar was removed 13 years later.\\n\\nOn 19 October 1901, Alberto Santos-Dumont, flying his No.6 airship, won a 100,000-franc prize offered by Henri Deutsch de la Meurthe for the first person to make a flight from St. Cloud to the Eiffel Tower and back in less than half an hour.\\nIn 1910, Father Theodor Wulf measured radiant energy at the top and bottom of the tower. He found more at the top than expected, incidentally discovering what are known today as cosmic rays. Two years later, on 4 February 1912, Austrian tailor Franz Reichelt died after jumping from the first level of the tower (a height of 57 m) to demonstrate his parachute design. In 1914, at the outbreak of World War I, a radio transmitter located in the tower jammed German radio communications, seriously hindering their advance on Paris and contributing to the Allied victory at the First Battle of the Marne. \\nDuring World War I, the Eiffel Tower\\'s wireless station played a crucial role in intercepting enemy communications from Berlin. In 1914, French forces successfully launched a counter-attack during the Battle of the Marne after gaining critical intelligence on the German Army\\'s movements. In 1917, the station intercepted a coded message between Germany and Spain that referenced \\'Operative H-21.\\' This information contributed to the arrest, conviction, and execution of Mata Hari, the famous spy accused of working for Germany. \\nFrom 1925 to 1934, illuminated signs for Citroën adorned three of the tower\\'s sides, making it the tallest advertising space in the world at the time. In April 1935, the tower was used to make experimental low-resolution television transmissions, using a shortwave transmitter of 200 watts power. On 17 November, an improved 180-line transmitter was installed.\\n\\nOn two separate but related occasions in 1925, the con artist Victor Lustig \"sold\" the tower for scrap metal. A year later, in February 1926, pilot Leon Collet was killed trying to fly under the tower. His aircraft became entangled in an aerial belonging to a wireless station. A bust of Gustave Eiffel by Antoine Bourdelle was unveiled at the base of the north leg on 2 May 1929. In 1930, the tower lost the title of the world\\'s tallest structure when the Chrysler Building in New York City was completed. In 1938, the decorative arcade around the first level was removed.\\nUpon the German occupation of Paris in 1940, the lift cables were cut by the French. The tower was  restricted to German visitors during the occupation and the lifts were not repaired until 1946. In 1940, German soldiers had to climb the tower to hoist a swastika-centered Reichskriegsflagge, but the flag was so large it blew away just a few hours later, and was replaced by a smaller one. When visiting Paris, Hitler chose to stay on the ground. When the Allies were nearing Paris in August 1944, Hitler ordered General Dietrich von Choltitz, the military governor of Paris, to demolish the tower along with the rest of the city. Von Choltitz disobeyed the order. On 25 August, before the Germans had been driven out of Paris, the German flag was replaced with a Tricolour by two men from the French Naval Museum, who narrowly beat three men led by Lucien Sarniguet, who had lowered the Tricolour on 13 June 1940 when Paris fell to the Germans.\\nA fire started in the television transmitter on 3 January 1956, damaging the top of the tower. Repairs took a year, and in 1957, the present radio aerial was added to the top. In 1964, the Eiffel Tower was officially declared to be a historical monument by the Minister of Cultural Affairs, André Malraux. A year later, an additional lift system was installed in the north pillar.\\nAccording to interviews, in 1967, Montreal Mayor Jean Drapeau negotiated a secret agreement with Charles de Gaulle for the tower to be dismantled and temporarily relocated to Montreal to serve as a landmark and tourist attraction during Expo 67. The plan was allegedly vetoed by the company operating the tower out of fear that the French government could refuse permission for the tower to be restored in its original location.\\nIn 1982, the original lifts between the second and third levels were replaced after 97 years in service. These had been closed to the public between November and March because the water in the hydraulic drive tended to freeze. The new cars operate in pairs, with one counterbalancing the other, and perform the journey in one stage, reducing the journey time from eight minutes to less than two minutes. At the same time, two new emergency staircases were installed, replacing the original spiral staircases. In 1983, the south pillar was fitted with an electrically driven Otis lift to serve the Jules Verne restaurant. The Fives-Lille lifts in the east and west legs, fitted in 1899, were extensively refurbished in 1986. The cars were replaced, and a computer system was installed to completely automate the lifts. The motive power was moved from the water hydraulic system to a new electrically driven oil-filled hydraulic system, and the original water hydraulics were retained solely as a counterbalance system. A service lift was added to the south pillar for moving small loads and maintenance personnel three years later.\\nRobert Moriarty flew a Beechcraft Bonanza under the tower on 31 March 1984. In 1987, A. J. Hackett made one of his first bungee jumps from the top of the Eiffel Tower, using a special cord he had helped develop. Hackett was arrested by the police. On 27 October 1991, Thierry Devaux, along with mountain guide Hervé Calvayrac, performed a series of acrobatic figures while bungee jumping from the second floor of the tower. Facing the Champ de Mars, Devaux used an electric winch between figures to go back up to the second floor. When firemen arrived, he stopped after the sixth jump.\\n\\nFor its \"Countdown to the Year 2000\" celebration on 31 December 1999, flashing lights and high-powered searchlights were installed on the tower. During the last three minutes of the year, the lights were turned on starting from the base of the tower and continuing to the top to welcome 2000 with a huge fireworks show. An exhibition above a cafeteria on the first floor commemorates this event. The searchlights on top of the tower made it a beacon in Paris\\'s night sky, and 20,000 flashing bulbs gave the tower a sparkly appearance for five minutes every hour on the hour.\\nThe lights sparkled blue for several nights to herald the new millennium on 31 December 2000. The sparkly lighting continued for 18 months until July 2001. The sparkling lights were turned on again on 21 June 2003, and the display was planned to last for 10 years before they needed replacing.\\nThe tower received its 200,000,000th guest on 28 November 2002. The tower has operated at its maximum capacity of about 7 million visitors per year since 2003. In 2004, the Eiffel Tower began hosting a seasonal ice rink on the first level. A glass floor was installed on the first level during the 2014 refurbishment.\\n\\n\\n== Design ==\\n\\n\\n=== Material ===\\n\\nThe puddle iron (wrought iron) of the Eiffel Tower weighs 7,300 tonnes, and the addition of lifts, shops and antennae have brought the total weight to approximately 10,100 tonnes. As a demonstration of the economy of design, if the 7,300 tonnes of metal in the structure were melted down, it would fill the square base, 125 metres (410 ft) on each side, to a depth of only 6.25 cm (2.46 in) assuming the density of the metal to be 7.8 tonnes per cubic metre. Additionally, a cubic box surrounding the tower (324 m × 125 m × 125 m) would contain 6,200 tonnes of air, weighing almost as much as the iron itself. Depending on the ambient temperature, the top of the tower may shift away from the sun by up to 18 cm (7 in) due to thermal expansion of the metal on the side facing the sun.\\n\\n\\n=== Wind and weather considerations ===\\n\\nWhen it was built, many were shocked by the tower\\'s daring form. Eiffel was accused of trying to create something artistic with no regard to the principles of engineering. However, Eiffel and his team – experienced bridge builders – understood the importance of wind forces, and knew that if they were going to build the tallest structure in the world, they had to be sure it could withstand them. In an interview with the newspaper Le Temps published on 14 February 1887, Eiffel said:\\n\\nIs it not true that the very conditions which give strength also conform to the hidden rules of harmony? ... Now to what phenomenon did I have to give primary concern in designing the Tower? It was wind resistance. Well then! I hold that the curvature of the monument\\'s four outer edges, which is as mathematical calculation dictated it should be ... will give a great impression of strength and beauty, for it will reveal to the eyes of the observer the boldness of the design as a whole.\\nHe used graphical methods to determine the strength of the tower and empirical evidence to account for the effects of wind, rather than a mathematical formula. Close examination of the tower reveals a basically exponential shape. All parts of the tower were overdesigned to ensure maximum resistance to wind forces. The top half was even assumed to have no gaps in the latticework. In the years since it was completed, engineers have put forward various mathematical hypotheses in an attempt to explain the success of the design. The most recent, devised in 2004 after letters sent by Eiffel to the French Society of Civil Engineers in 1885 were translated into English, is described as a non-linear integral equation based on counteracting the wind pressure on any point of the tower with the tension between the construction elements at that point.\\nThe Eiffel Tower sways by up to 9 cm (3.5 in) in the wind.\\n\\n\\n=== Floors ===\\n\\n\\n==== Ground floor ====\\n\\nThe four columns of the tower each house access stairs and elevators to the first two floors, while at the south column only the elevator to the second floor restaurant is publicly accessible.\\n\\n\\n==== 1st floor ====\\n\\nThe first floor is publicly accessible by elevator or stairs. \\nWhen originally built, the first level contained three restaurants – one French, one Russian and one Flemish — and an \"Anglo-American Bar\". After the exposition closed, the Flemish restaurant was converted to a 250-seat theatre. Today there is the Le 58 Tour Eiffel restaurant and other facilities.\\n\\n\\n==== 2nd floor ====\\nThe second floor is publicly accessible by elevator or stairs and has a restaurant called Le Jules Verne, a gourmet restaurant with its own lift going up from the south column to the second level. This restaurant has one star in the Michelin Red Guide. It was run by the multi-Michelin star chef Alain Ducasse from 2007 to 2017. As of May 2019, it is managed by three-star chef Frédéric Anton. It owes its name to the famous science-fiction writer Jules Verne.\\n\\n\\n==== 3rd floor ====\\nThe third floor is the top floor, publicly accessible by elevator.\\nOriginally there were laboratories for various experiments, and a small apartment reserved for Gustave Eiffel to entertain guests, which is now open to the public, complete with period decorations and lifelike mannequins of Eiffel and some of his notable guests.\\n\\nFrom 1937 until 1981, there was a restaurant near the top of the tower. It was removed due to structural considerations; engineers had determined it was too heavy and was causing the tower to sag. This restaurant was sold to an American restaurateur and transported to New York and then New Orleans. It was rebuilt on the edge of New Orleans\\' Garden District as a restaurant and later event hall. Today there is a champagne bar.\\n\\n\\n=== Lifts ===\\nThe arrangement of the lifts has been changed several times during the tower\\'s history. Given the elasticity of the cables and the time taken to align the cars with the landings, each lift, in normal service, takes an average of 8 minutes and 50 seconds to do the round trip, spending an average of 1 minute and 15 seconds at each level. The average journey time between levels is 1 minute. The original hydraulic mechanism is on public display in a small museum at the base of the east and west legs. Because the mechanism requires frequent lubrication and maintenance, public access is often restricted. The rope mechanism of the north tower can be seen as visitors exit the lift.\\n\\nEquipping the tower with adequate and safe passenger lifts was a major concern of the government commission overseeing the Exposition. Although some visitors could be expected to climb to the first level, or even the second, lifts clearly had to be the main means of ascent.\\nConstructing lifts to reach the first level was relatively straightforward: the legs were wide enough at the bottom and so nearly straight that they could contain a straight track, and a contract was given to the French company Roux, Combaluzier & Lepape for two lifts to be fitted in the east and west legs. Roux, Combaluzier & Lepape used a pair of endless chains with rigid, articulated links to which the car was attached. Lead weights on some links of the upper or return sections of the chains counterbalanced most of the car\\'s weight. The car was pushed up from below, not pulled up from above: to prevent the chain buckling, it was enclosed in a conduit. At the bottom of the run, the chains passed around 3.9 m (12 ft 10 in) diameter sprockets. Smaller sprockets at the top guided the chains.\\n\\nInstalling lifts to the second level was more of a challenge because a straight track was impossible. No French company wanted to undertake the work. The European branch of Otis Brothers & Company submitted a proposal but this was rejected: the fair\\'s charter ruled out the use of any foreign material in the construction of the tower. The deadline for bids was extended but still no French companies put themselves forward, and eventually the contract was given to Otis in July 1887. Otis were confident they would eventually be given the contract and had already started creating designs.\\nThe car was divided into two superimposed compartments, each holding 25 passengers, with the lift operator occupying an exterior platform on the first level. Motive power was provided by an inclined hydraulic ram 12.67 m (41 ft 7 in) long and 96.5 cm (38.0 in) in diameter in the tower leg with a stroke of 10.83 m (35 ft 6 in): this moved a carriage carrying six sheaves. Five fixed sheaves were mounted higher up the leg, producing an arrangement similar to a block and tackle but acting in reverse, multiplying the stroke of the piston rather than the force generated. The hydraulic pressure in the driving cylinder was produced by a large open reservoir on the second level. After being exhausted from the cylinder, the water was pumped back up to the reservoir by two pumps in the machinery room at the base of the south leg. This reservoir also provided power to the lifts to the first level.\\nThe original lifts for the journey between the second and third levels were supplied by Léon Edoux. A pair of 81 m (266 ft) hydraulic rams were mounted on the second level, reaching nearly halfway up to the third level. One lift car was mounted on top of these rams: cables ran from the top of this car up to sheaves on the third level and back down to a second car. Each car travelled only half the distance between the second and third levels and passengers were required to change lifts halfway by means of a short gangway. The 10-ton cars each held 65 passengers.\\n\\n\\n=== Engraved names ===\\n\\nGustave Eiffel engraved on the tower the names of 72 French scientists, engineers and mathematicians in recognition of their contributions to the building of the tower. Eiffel chose this \"invocation of science\" because of his concern over the artists\\' protest. At the beginning of the 20th century, the engravings were painted over, but they were restored in 1986–87 by the Société Nouvelle d\\'exploitation de la Tour Eiffel, a company operating the tower.\\n\\n\\n=== Aesthetics ===\\n\\nThe tower is painted in three shades: lighter at the top, getting progressively darker towards the bottom to complement the Parisian sky. It was originally reddish brown; this changed in 1968 to a bronze colour known as \"Eiffel Tower Brown\". In what is expected to be a temporary change, the tower was painted gold in commemoration of the 2024 Summer Olympics in Paris.\\nFollowing the 2024 Summer Olympics held in Paris, Mayor Anne Hidalgo proposed keeping the Olympic rings on the tower permanently. The rings, which measure 95 feet (29 m) wide and 43 feet (13 m) high, were initially installed for the Games and were scheduled for removal after the Paralympics. Hidalgo\\'s decision faced criticism from the Eiffel family and some residents concerned about altering the protected monument. The original 30-ton rings would be replaced with lighter versions for long-term display.\\nThe only non-structural elements are the four decorative grill-work arches, added in Sauvestre\\'s sketches, which served to make the tower look more substantial and to make a more impressive entrance to the exposition.\\nA pop-culture movie cliché is that the view from a Parisian window always includes the tower. In reality, since zoning restrictions limit the height of most buildings in Paris to seven storeys, only a small number of tall buildings have a clear view of the tower.\\n\\n\\n=== Maintenance ===\\nMaintenance of the tower includes applying 60 tons of paint every seven years to prevent it from rusting. The tower has been completely repainted at least 19 times since it was built, with the most recent being in 2010. Lead paint was still being used as recently as 2001 when the practice was stopped out of concern for the environment.\\n\\n\\n== Communications ==\\n\\nThe tower has been used for making radio transmissions since the beginning of the 20th century. Until the 1950s, sets of aerial wires ran from the cupola to anchors on the Avenue de Suffren and Champ de Mars. These were connected to longwave transmitters in small bunkers. In 1909, a permanent underground radio centre was built near the south pillar, which still exists today. On 20 November 1913, the Paris Observatory, using the Eiffel Tower as an aerial, exchanged wireless signals with the United States Naval Observatory, which used an aerial in Arlington County, Virginia. The object of the transmissions was to measure the difference in longitude between Paris and Washington, D.C. Today, radio and digital television signals are transmitted from the Eiffel Tower.\\n\\n\\n=== FM radio ===\\n\\n\\n=== Digital television ===\\nA television antenna was first installed on the tower in 1957, increasing its height by 18.7 m (61 ft). Work carried out in 2000 added a further 5.3 m (17 ft), giving the current height of 324 m (1,063 ft). Analogue television signals from the Eiffel Tower ceased on 8 March 2011.\\n\\n\\n== Dimensions ==\\n\\n\\n=== Height changes ===\\nThe pinnacle height of the Eiffel Tower has changed multiple times over the years as described in the chart below.\\n\\n\\n== Taller structures ==\\nThe Eiffel Tower was the world\\'s tallest structure when completed in 1889, a distinction it retained until 1929 when the Chrysler Building in New York City was topped out. The tower also lost its standing as the world\\'s tallest tower to the Tokyo Tower in 1958 but retains its status as the tallest freestanding (non-guyed) structure in France.\\n\\n\\n=== Lattice towers taller than the Eiffel Tower ===\\n\\n\\n=== Structures in France taller than the Eiffel Tower ===\\n\\n\\n== Tourism ==\\n\\n\\n=== Transport ===\\nThe nearest Paris Métro station is Bir-Hakeim and the nearest RER station is Champ de Mars-Tour Eiffel. The tower itself is located at the intersection of the quai Branly and the Pont d\\'Iéna.\\n\\n\\n=== Popularity ===\\n\\nMore than 300 million people have visited the tower since it was completed in 1889. In 2015, there were 6.91 million visitors. The tower is the most-visited paid monument in the world. An average of 25,000 people ascend the tower every day (which can result in long queues).\\n\\n\\n== Illumination copyright ==\\n\\nThe tower and its image have been in the public domain since 1993, 70 years after Eiffel\\'s death. In June 1990 a French court ruled that a special lighting display on the tower in 1989 to mark the tower\\'s 100th anniversary was an \"original visual creation\" protected by copyright. The Court of Cassation, France\\'s judicial court of last resort, upheld the ruling in March 1992. The Société d\\'Exploitation de la Tour Eiffel (SETE) now considers any illumination of the tower to be a separate work of art that falls under copyright. As a result, the SNTE alleges that it is illegal to publish contemporary photographs of the lit tower at night without permission in France and some other countries for commercial use. For this reason, it is often rare to find images or videos of the lit tower at night on stock image sites, and media outlets rarely broadcast images or videos of it.\\nThe imposition of copyright has been controversial. The Director of Documentation for what was then called the Société Nouvelle d\\'exploitation de la Tour Eiffel (SNTE), Stéphane Dieu, commented in 2005: \"It is really just a way to manage commercial use of the image, so that it isn\\'t used in ways [of which] we don\\'t approve\". SNTE made over €1 million from copyright fees in 2002. However, it could also be used to restrict the publication of tourist photographs of the tower at night, as well as hindering non-profit and semi-commercial publication of images of the illuminated tower.\\nThe copyright claim itself has never been tested in courts to date, according to a 2014 article in the Art Law Journal, and there has never been an attempt to track down millions of people who have posted and shared their images of the illuminated tower on the Internet worldwide. However, the article adds that commercial uses of such images, like in a magazine, on a film poster, or on product packaging, may require prior permission.\\nFrench doctrine and jurisprudence allows pictures incorporating a copyrighted work as long as their presence is incidental or accessory to the subject being represented, a reasoning akin to the de minimis rule. Therefore, SETE may be unable to claim copyright on photographs of Paris which happen to include the lit tower.\\n\\n\\n== Replicas ==\\n\\nAs one of the most famous landmarks in the world, the Eiffel Tower has been the inspiration for the creation of many replicas and similar towers. An early example is Blackpool Tower in England. The mayor of Blackpool, Sir John Bickerstaffe, was so impressed on seeing the Eiffel Tower at the 1889 exposition that he commissioned a similar tower to be built in his town. It opened in 1894 and is 158.1 m (519 ft) tall. Tokyo Tower in Japan, built as a communications tower in 1958, was also inspired by the Eiffel Tower. Well known is the Petřín Lookout Tower in Prague too. \\nThere are various scale models of the tower in the United States, including a half-scale version at the Paris Las Vegas, Nevada, one in Paris, Texas built in 1993, and two 1:3 scale models at Kings Island, located in Mason, Ohio, and Kings Dominion, Virginia, amusement parks opened in 1972 and 1975 respectively. Two 1:3 scale models can be found in China, one in Durango, Mexico that was donated by the local French community, and several across Europe.\\nIn 2011, the TV show Pricing the Priceless on the National Geographic Channel speculated that a full-size replica of the tower would cost approximately US$480 million to build. This would be more than ten times the cost of the original (nearly 8 million in 1890 Francs; ~US$40 million in 2018 dollars).\\n\\n\\n== See also ==\\n\\nList of tallest buildings and structures in the Paris region\\nList of tallest buildings and structures\\nList of tourist attractions in Paris\\nList of tallest towers\\nList of tallest freestanding structures\\nList of tallest freestanding steel structures\\nList of tallest structures built before the 20th century\\nList of transmission sites\\nLattice tower\\nEiffel Tower, 1909–1928 painting series by Robert Delaunay\\n\\n\\n== References ==\\n\\n\\n=== Notes ===\\n\\n\\n=== Bibliography ===\\nChanson, Hubert (2009). \"Hydraulic engineering legends Listed on the Eiffel Tower\". In Jerry R. Rogers (ed.). Great Rivers History: Proceedings and Invited Papers for the EWRI Congress and Great Rivers History Symposium. American Society of Civil Engineers. ISBN 978-0-7844-1032-5.\\nFrémy, Dominique (1989). Quid de la tour Eiffel. R. Laffont. ISBN 978-2-221-06488-7.\\nThe Engineer: The Paris Exhibition. Vol. XLVII. London: Office for Advertisements and Publication. 3 May 1889.\\nHarriss, Joseph (1975). The Tallest Tower: Eiffel and the Belle Epoque. Boston: Houghton Mifflin. ISBN 978-0-39520-440-5.\\nHarriss, Joseph (1976). The Eiffel Tower: Symbol of an Age. London: Paul Elek. ISBN 978-0-23640-036-2.\\nHarvie, David I. (2006). Eiffel: The Genius Who Reinvented Himself. Stroud, Gloucestershire: Sutton. ISBN 0-7509-3309-7.\\nJonnes, Jill (2009). Eiffel\\'s Tower: The Thrilling Story Behind Paris\\'s Beloved Monument …. Penguin. ISBN 978-1-101-05251-8.\\nLoyrette, Henri (1985). Eiffel, un Ingenieur et Son Oeuvre. Rizzoli. ISBN 978-0-8478-0631-7.\\nMusée d\\'Orsay (1989). 1889: la Tour Eiffel et l\\'Exposition Universelle. Editions de la Réunion des Musées Nationaux, Ministère de la Culture, de la Communication, des Grands Travaux et du Bicentenaire. ISBN 978-2-7118-2244-7.\\nVogel, Robert M. (1961). \"Elevator Systems of the Eiffel Tower, 1889\". United States National Museum Bulletin. 228. Washington, D.C.: Smithsonian Institution: 20–21.\\nWatson, William (1892). Paris Universal Exposition: Civil Engineering, Public Works, and Architecture. Washington, D.C.: Government Publishing Office.\\n\\n\\n== External links ==\\n\\nOfficial website \\nEiffel Tower at Structurae\\nList of radio services using today Eiffel Tower Archived 5 June 2023 at the Wayback Machine', 'url': 'https://en.wikipedia.org/wiki/Eiffel_Tower'}\n",
      "========================\n",
      "\n",
      "The Eiffel Tower is a wrought-iron lattice tower located on the Champ de Mars in Paris, France. It was designed and built by Gustave Eiffel's company from 1887 to 1889. Here are some key points about the Eiffel Tower:\n",
      "\n",
      "- The tower is named after Gustave Eiffel and is locally nicknamed \"La dame de fer\" (French for \"Iron Lady\").\n",
      "- It was constructed as the centerpiece of the 1889 World's Fair and to celebrate the centennial anniversary of the French Revolution.\n",
      "- Initially criticized for its design, the Eiffel Tower has become a global cultural icon of France and one of the most recognizable structures in the world.\n",
      "- The tower is 330 meters (1,083 feet) tall, about the height of an 81-storey building, and is the tallest structure in Paris.\n",
      "- It received 5,889,000 visitors in 2022 and is the most visited monument with an entrance fee in the world.\n",
      "- The Eiffel Tower has three levels for visitors, with restaurants on the first and second levels. The top level's upper platform is 276 meters (906 feet) above the ground.\n",
      "- The tower has been used for various purposes over the years, including as a radio transmitter, a location for experimental television transmissions, and a site for bungee jumping.\n",
      "- The Eiffel Tower has been featured in films, literature, and art, and it continues to be a symbol of Paris and France.\n",
      "\n",
      "If you would like more detailed information or have any specific questions about the Eiffel Tower, feel free to ask!\n"
     ]
    }
   ],
   "source": [
    "response = agent.chat(\"Tell me about the Eiffel Tower\")\n",
    "print(response)"
   ]
  },
  {
   "cell_type": "code",
   "execution_count": 18,
   "metadata": {},
   "outputs": [
    {
     "name": "stdout",
     "output_type": "stream",
     "text": [
      "Added user message to memory: Give me some articles similar to the Eiffel Tower\n",
      "=== Calling Function ===\n",
      "Calling function: wikipedia_similar_articles with args: {\"query\":\"Eiffel Tower\"}\n"
     ]
    },
    {
     "name": "stderr",
     "output_type": "stream",
     "text": [
      "/mnt/c/Users/mwp89/Desktop/envs/wiki_search_env/lib/python3.9/site-packages/wikipedia/wikipedia.py:389: GuessedAtParserWarning: No parser was explicitly specified, so I'm using the best available HTML parser for this system (\"html.parser\"). This usually isn't a problem, but if you run this code on another system, or in a different virtual environment, it may use a different parser and behave differently.\n",
      "\n",
      "The code that caused this warning is on line 389 of the file /mnt/c/Users/mwp89/Desktop/envs/wiki_search_env/lib/python3.9/site-packages/wikipedia/wikipedia.py. To get rid of this warning, pass the additional argument 'features=\"html.parser\"' to the BeautifulSoup constructor.\n",
      "\n",
      "  lis = BeautifulSoup(html).find_all('li')\n"
     ]
    },
    {
     "name": "stdout",
     "output_type": "stream",
     "text": [
      "Disambiguation page: ['Eiffel Tower (Paris, Tennessee)', 'Eiffel Tower (Paris, Texas)', 'Eiffel Tower (Six Flags)', 'at Paris Las Vegas', 'Tour Eiffel Bridge', 'Eiffel Tower (Delaunay series)', 'EiffelTowers Nijmegen', 'Heroes Den Bosch', 'Tour Eiffel (disambiguation)', 'List of Eiffel Tower replicas', 'Eiffel (disambiguation)', 'Tower (disambiguation)', 'All pages with titles beginning with Eiffel Tower', 'All pages with titles containing Eiffel Tower']\n",
      "Got output: [{'title': 'Eiffel Tower', 'url': 'https://en.wikipedia.org/wiki/Eiffel_Tower'}, {'title': 'Eiffel Tower replicas and derivatives', 'url': 'https://en.wikipedia.org/wiki/Eiffel_Tower_replicas_and_derivatives'}, {'title': 'List of the 72 names on the Eiffel Tower', 'url': 'https://en.wikipedia.org/wiki/List_of_the_72_names_on_the_Eiffel_Tower'}, {'title': 'Gustave Eiffel', 'url': 'https://en.wikipedia.org/wiki/Gustave_Eiffel'}]\n",
      "========================\n",
      "\n",
      "Here are some articles similar to the Eiffel Tower that you may find interesting:\n",
      "\n",
      "1. [Eiffel Tower replicas and derivatives](https://en.wikipedia.org/wiki/Eiffel_Tower_replicas_and_derivatives)\n",
      "2. [List of the 72 names on the Eiffel Tower](https://en.wikipedia.org/wiki/List_of_the_72_names_on_the_Eiffel_Tower)\n",
      "3. [Gustave Eiffel](https://en.wikipedia.org/wiki/Gustave_Eiffel)\n",
      "\n",
      "Feel free to explore these articles to learn more related to the Eiffel Tower and its history. If you have any specific questions or need more information, feel free to ask!\n"
     ]
    }
   ],
   "source": [
    "response = agent.chat(\"Give me some articles similar to the Eiffel Tower\")\n",
    "print(response)"
   ]
  },
  {
   "cell_type": "code",
   "execution_count": 19,
   "metadata": {},
   "outputs": [
    {
     "name": "stdout",
     "output_type": "stream",
     "text": [
      "Added user message to memory: the school of athens\n",
      "=== Calling Function ===\n",
      "Calling function: wikipedia_similar_articles with args: {\"query\":\"The School of Athens\"}\n",
      "Disambiguation page: ['Athens City Schools (Alabama)', 'Athens City Schools (Tennessee)']\n",
      "Got output: [{'title': 'The School of Athens', 'url': 'https://en.wikipedia.org/wiki/The_School_of_Athens'}, {'title': 'British School at Athens', 'url': 'https://en.wikipedia.org/wiki/British_School_at_Athens'}, {'title': 'Athens Academy (school)', 'url': 'https://en.wikipedia.org/wiki/Athens_Academy_(school)'}, {'title': 'Athens High School (Ohio)', 'url': 'https://en.wikipedia.org/wiki/Athens_High_School_(Ohio)'}]\n",
      "========================\n",
      "\n",
      "Here are some articles related to \"The School of Athens\":\n",
      "\n",
      "1. [The School of Athens](https://en.wikipedia.org/wiki/The_School_of_Athens) - A famous fresco painting by Raphael depicting a gathering of philosophers and scholars in ancient Greece.\n",
      "2. [British School at Athens](https://en.wikipedia.org/wiki/British_School_at_Athens) - A research institute in Athens, Greece, focusing on archaeology and related studies.\n",
      "3. [Athens Academy (school)](https://en.wikipedia.org/wiki/Athens_Academy_(school)) - A private preparatory school in Athens, Georgia, USA.\n",
      "4. [Athens High School (Ohio)](https://en.wikipedia.org/wiki/Athens_High_School_(Ohio)) - A high school in Athens, Ohio, USA.\n",
      "\n",
      "You can explore these articles to learn more about different aspects related to Athens and education. If you have any specific questions or need more information, feel free to ask!\n"
     ]
    }
   ],
   "source": [
    "response = agent.chat(\"the school of athens\")\n",
    "print(response)"
   ]
  },
  {
   "cell_type": "code",
   "execution_count": 20,
   "metadata": {},
   "outputs": [
    {
     "name": "stdout",
     "output_type": "stream",
     "text": [
      "Added user message to memory: Who scored the most goals in the European Champion's League in 2020?\n",
      "=== Calling Function ===\n",
      "Calling function: wikipedia_full_article with args: {\"query\":\"UEFA Champions League top scorers 2020\"}\n",
      "Got output: {'title': 'List of UEFA Champions League top scorers', 'content': \"The UEFA Champions League, known until 1992 as the European Champion Clubs' Cup or colloquially as the European Cup, is an annual association football cup competition organised by UEFA since 1955. Originally a straight knockout competition open only to champion clubs, the tournament was expanded during the 1990s to incorporate a round-robin group phase and more teams. The expansion resulted in more games being played, increasing players' goalscoring chances; thus the rankings are weighted in favour of modern players: only seven out of the 52 players on the list never competed in the reformed Champions League.\\nWith 140 goals, Cristiano Ronaldo is currently the all-time top scorer in the Champions League, while his career rival Lionel Messi is the only other player to have reached triple figures. Ronaldo has also finished as the top scorer for the most individual seasons in the competition's history, doing so seven times.\\nThe title of highest goalscorer had previously been held by Raúl, who scored his 50th goal in 2005 while at Real Madrid to overtake Alfredo Di Stéfano. He held the record until November 2014, when his eventual tally of 71 was first equalled and then surpassed by Messi. Ronaldo has remained the competition's outright top scorer since September 2015; after a back-and-forth exchange of the record between him and Messi, a hat-trick by the former against Shakhtar Donetsk put Ronaldo ahead with 80 goals, and he would not relinquish the top spot again after this.\\n\\n\\n== All-time top scorers ==\\nAs of 1 June 2024\\nA ‡ indicates the player was from the European Cup era.\\nPlayers taking part in the 2024–25 UEFA Champions League are highlighted in bold.\\nThe table below does not include goals scored in the qualification stage of the competition.\\n\\n\\n== Top scorers by season ==\\nThe table below does not include goals scored in the qualification stage of the competition.\\n\\n\\n=== By player ===\\n\\n\\n=== By club ===\\n\\nNotes\\n\\n\\n=== By country ===\\n\\nNotes\\n\\n\\n== See also ==\\nList of footballers with 100 or more UEFA Champions League appearances\\nList of UEFA Champions League hat-tricks\\nList of UEFA Cup and Europa League top scorers\\nList of UEFA Cup Winners' Cup top scorers\\n\\n\\n== References ==\", 'url': 'https://en.wikipedia.org/wiki/List_of_UEFA_Champions_League_top_scorers'}\n",
      "========================\n",
      "\n",
      "The information about the player who scored the most goals in the UEFA Champions League in 2020 is not specifically mentioned in the retrieved article. However, Cristiano Ronaldo is currently the all-time top scorer in the Champions League with 140 goals. Lionel Messi is the only other player to have reached triple figures in goals scored in the Champions League.\n",
      "\n",
      "If you have any more specific questions or need further information, feel free to ask!\n"
     ]
    }
   ],
   "source": [
    "response = agent.chat(\"Who scored the most goals in the European Champion's League in 2020?\")\n",
    "print(response)"
   ]
  },
  {
   "cell_type": "code",
   "execution_count": 21,
   "metadata": {},
   "outputs": [
    {
     "name": "stdout",
     "output_type": "stream",
     "text": [
      "Added user message to memory: Who is the president?\n",
      "I don't have real-time information on current events. To get the most up-to-date information on the current president, I recommend checking a reliable news source or conducting a quick search online for the latest updates. If you have any other questions or need assistance with something else, feel free to let me know!\n"
     ]
    }
   ],
   "source": [
    "response = agent.chat(\"Who is the president?\")\n",
    "print(response)"
   ]
  },
  {
   "cell_type": "code",
   "execution_count": 24,
   "metadata": {},
   "outputs": [],
   "source": [
    "prompt = agent.get_prompts()\n",
    "for k, v in prompt.items():\n",
    "    print(f\"Prompt: {k}\\n\\nValue: {v.template}\")"
   ]
  },
  {
   "cell_type": "code",
   "execution_count": null,
   "metadata": {},
   "outputs": [],
   "source": []
  }
 ],
 "metadata": {
  "kernelspec": {
   "display_name": "wiki_search_env",
   "language": "python",
   "name": "python3"
  },
  "language_info": {
   "codemirror_mode": {
    "name": "ipython",
    "version": 3
   },
   "file_extension": ".py",
   "mimetype": "text/x-python",
   "name": "python",
   "nbconvert_exporter": "python",
   "pygments_lexer": "ipython3",
   "version": "3.9.9"
  }
 },
 "nbformat": 4,
 "nbformat_minor": 2
}
