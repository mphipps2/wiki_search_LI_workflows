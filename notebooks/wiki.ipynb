{
 "cells": [
  {
   "cell_type": "code",
   "execution_count": 1,
   "metadata": {},
   "outputs": [
    {
     "ename": "ModuleNotFoundError",
     "evalue": "No module named 'wikipediaapi'",
     "output_type": "error",
     "traceback": [
      "\u001b[0;31m---------------------------------------------------------------------------\u001b[0m",
      "\u001b[0;31mModuleNotFoundError\u001b[0m                       Traceback (most recent call last)",
      "Cell \u001b[0;32mIn[1], line 1\u001b[0m\n\u001b[0;32m----> 1\u001b[0m \u001b[38;5;28;01mimport\u001b[39;00m \u001b[38;5;21;01mwikipediaapi\u001b[39;00m\n\u001b[1;32m      2\u001b[0m \u001b[38;5;28;01mimport\u001b[39;00m \u001b[38;5;21;01mrequests\u001b[39;00m\n\u001b[1;32m      3\u001b[0m \u001b[38;5;28;01mimport\u001b[39;00m \u001b[38;5;21;01mos\u001b[39;00m\n",
      "\u001b[0;31mModuleNotFoundError\u001b[0m: No module named 'wikipediaapi'"
     ]
    }
   ],
   "source": [
    "import requests\n",
    "import os\n",
    "OPENAI_API_KEY = os.environ[\"OPENAI_API_KEY\"]\n",
    "# Create a custom requests session\n",
    "session = requests.Session()\n",
    "\n",
    "# Set custom user-agent to comply with Wikipedia's policy\n",
    "user_agent = \"MichaelPhipps/1.0 (mwp897@gmail.com)  Python/wikipedia-api\"\n",
    "# Set custom user-agent to comply with Wikipedia's policy\n",
    "\n",
    "# Initialize the Wikipedia API for English language with the user-agent\n",
    "wiki_wiki = wikipediaapi.Wikipedia(\n",
    "    'en',\n",
    "    headers={'User-Agent': user_agent}\n",
    ")\n"
   ]
  },
  {
   "cell_type": "code",
   "execution_count": 27,
   "metadata": {},
   "outputs": [],
   "source": [
    "import wikipedia\n",
    "\n",
    "def search_wikipedia(query):\n",
    "    # Use wikipedia package to search for articles\n",
    "    search_results = wikipedia.search(query)\n",
    "    if len(search_results) == 0:\n",
    "        print(f\"No results found for query: {query}\")\n",
    "        return None\n",
    "    print(f\"Top search result: {search_results[0]}\")\n",
    "    print(f\"Full search results: {search_results}\")\n",
    "    return search_results[0]  # Return the first (most relevant) result\n",
    "\n",
    "def get_wikipedia_article(query):\n",
    "    # First, try to find the relevant article title using search\n",
    "    title = search_wikipedia(query)\n",
    "    if not title:\n",
    "        return None\n",
    "    \n",
    "    # Now fetch the Wikipedia article using the retrieved title\n",
    "    page = wiki_wiki.page(title)\n",
    "    \n",
    "    if not page.exists():\n",
    "        print(f\"The article '{title}' does not exist on Wikipedia.\")\n",
    "        return None\n",
    "    \n",
    "    # Get the summary and full text of the article\n",
    "    summary = page.summary\n",
    "    full_text = page.text\n",
    "    url = page.fullurl\n",
    "    \n",
    "    return {\n",
    "        'title': page.title,\n",
    "        'summary': summary,\n",
    "        'full_text': full_text,\n",
    "        'url': url\n",
    "    }"
   ]
  },
  {
   "cell_type": "code",
   "execution_count": 3,
   "metadata": {},
   "outputs": [
    {
     "name": "stdout",
     "output_type": "stream",
     "text": [
      "Top search result: The School of Athens\n",
      "Full search results: ['The School of Athens', 'British School at Athens', 'Athens Academy (school)', 'Athens High School (Ohio)', 'French School at Athens', 'Athens', 'International School of Athens', 'Athens High School (Alabama)', 'Athens City Schools', 'Barrow County Schools']\n",
      "Title: The School of Athens\n",
      "\n",
      "Summary:\n",
      "The School of Athens (Italian: Scuola di Atene) is a fresco by the Italian Renaissance artist Raphael. It was painted between 1509 and 1511 as part of a commission by Pope Julius II to decorate the rooms now called the Stanze di Raffaello in the Apostolic Palace in Vatican City. \n",
      "The fresco depicts a congregation of ancient philosophers, mathematicians, and scientists, with Plato and Aristotle featured in the center. The identities of most figures are ambiguous or discernable only through subtle details or allusions; among those commonly identified are Socrates, Pythagoras, Archimedes, Heraclitus, Averroes, and Zarathustra. Additionally, Italian artists Leonardo da Vinci and Michelangelo are believed to be portrayed through Plato and Heraclitus, respectively. Raphael included a self-portrait beside Ptolemy. Raphael is the only character who is looking directly at the viewer in the artwork.\n",
      "The painting is notable for its use of accurate perspective projection, a defining characteristic of Renaissance art, which Raphael learned from Leonardo; likewise, the themes of the painting, such as the rebirth of Ancient Greek philosophy and culture in Europe were inspired by Leonardo's individual pursuits in theatre, engineering, optics, geometry, physiology, anatomy, history, architecture and art.\n",
      "The School of Athens is regarded as one of Raphael's best-known works and has been described as his \"masterpiece and the perfect embodiment of the classical spirit of the Renaissance\".\n",
      "\n",
      "Full URL: https://en.wikipedia.org/wiki/The_School_of_Athens\n",
      "\n",
      "Top search result: CSS Flexible Box Layout\n",
      "Full search results: ['CSS Flexible Box Layout', 'Flex', 'NetSurf', 'CSS hack', 'Holy grail (web design)', 'Mouseover', 'ChromeOS', 'SonarQube', 'Absalon-class frigate', 'Chicken Soup for the Soul Entertainment']\n",
      "Title: CSS Flexible Box Layout\n",
      "\n",
      "Summary:\n",
      "CSS Flexible Box Layout, commonly known as Flexbox, is a CSS web layout model. It is in the W3C's candidate recommendation (CR) stage. The flex layout allows responsive elements within a container to be automatically arranged  depending on viewport (device screen) size.\n",
      "\n",
      "Full URL: https://en.wikipedia.org/wiki/CSS_Flexible_Box_Layout\n",
      "\n"
     ]
    }
   ],
   "source": [
    "# Get article for \"School of Athens\"\n",
    "school_of_athens = get_wikipedia_article(\"School of Athens\")\n",
    "print(f\"Title: {school_of_athens['title']}\\n\")\n",
    "print(f\"Summary:\\n{school_of_athens['summary']}\\n\")\n",
    "print(f\"Full URL: {school_of_athens['url']}\\n\")\n",
    "\n",
    "# Get article for \"CSS Flex\"\n",
    "css_flex = get_wikipedia_article(\"css flex\")\n",
    "print(f\"Title: {css_flex['title']}\\n\")\n",
    "print(f\"Summary:\\n{css_flex['summary']}\\n\")\n",
    "print(f\"Full URL: {css_flex['url']}\\n\")"
   ]
  },
  {
   "cell_type": "code",
   "execution_count": 4,
   "metadata": {},
   "outputs": [
    {
     "name": "stdout",
     "output_type": "stream",
     "text": [
      "Top search result: President of the United States\n",
      "Full search results: ['President of the United States', 'List of presidents of the United States', 'Vice President of the United States', 'List of presidents of the United States by age', 'Historical rankings of presidents of the United States', 'Powers of the president of the United States', 'List of vice presidents of the United States', 'President pro tempore of the United States Senate', 'Thomas Jefferson', 'Grover Cleveland']\n",
      "Title: President of the United States\n",
      "\n",
      "Summary:\n",
      "The president of the United States (POTUS) is the head of state and head of government of the United States of America. The president directs the executive branch of the federal government and is the commander-in-chief of the United States Armed Forces.\n",
      "The power of the presidency has grown substantially since the first president, George Washington, took office in 1789. While presidential power has ebbed and flowed over time, the presidency has played an increasingly significant role in American political life since the beginning of the 20th century, carrying over into the 21st century with notable expansions during the presidencies of Franklin D. Roosevelt and George W. Bush. In modern times, the president is one of the world's most powerful political figures and the leader of the world's only remaining superpower. As the leader of the nation with the largest economy by nominal GDP, the president possesses significant domestic and international hard and soft power. For much of the 20th century, especially during the Cold War, the U.S. president was often called \"the leader of the free world\".\n",
      "Article II of the Constitution establishes the executive branch of the federal government and vests executive power in the president. The power includes the execution and enforcement of federal law and the responsibility to appoint federal executive, diplomatic, regulatory, and judicial officers.  Based on constitutional provisions empowering the president to appoint and receive ambassadors and conclude treaties with foreign powers, and on subsequent laws enacted by Congress, the modern presidency has primary responsibility for conducting U.S. foreign policy. The role includes responsibility for directing the world's most expensive military, which has the second-largest nuclear arsenal.\n",
      "The president also plays a leading role in federal legislation and domestic policymaking. As part of the system of separation of powers, Article I, Section 7 of the Constitution gives the president the power to sign or veto federal legislation. Since modern presidents are typically viewed as leaders of their political parties, major policymaking is significantly shaped by the outcome of presidential elections, with presidents taking an active role in promoting their policy priorities to members of Congress who are often electorally dependent on the president. In recent decades, presidents have also made increasing use of executive orders, agency regulations, and judicial appointments to shape domestic policy.\n",
      "The president is elected indirectly through the Electoral College to a four-year term, along with the vice president. Under the Twenty-second Amendment, ratified in 1951, no person who has been elected to two presidential terms may be elected to a third. In addition, nine vice presidents have become president by virtue of a president's intra-term death or resignation. In all, 45 individuals have served 46 presidencies spanning 58 four-year terms. Joe Biden is the 46th and current president, having assumed office on January 20, 2021.\n",
      "\n",
      "Full URL: https://en.wikipedia.org/wiki/President_of_the_United_States\n",
      "\n"
     ]
    }
   ],
   "source": [
    "# Get article for user query\n",
    "query = get_wikipedia_article(\"President of the United States\")\n",
    "print(f\"Title: {query['title']}\\n\")\n",
    "print(f\"Summary:\\n{query['summary']}\\n\")\n",
    "print(f\"Full URL: {query['url']}\\n\")"
   ]
  },
  {
   "cell_type": "code",
   "execution_count": 28,
   "metadata": {},
   "outputs": [
    {
     "ename": "NameError",
     "evalue": "name 'generate_song' is not defined",
     "output_type": "error",
     "traceback": [
      "\u001b[0;31m---------------------------------------------------------------------------\u001b[0m",
      "\u001b[0;31mNameError\u001b[0m                                 Traceback (most recent call last)",
      "Cell \u001b[0;32mIn[28], line 18\u001b[0m\n\u001b[1;32m     14\u001b[0m \u001b[38;5;250m    \u001b[39m\u001b[38;5;124;03m\"\"\"Generates a song with provided name and artist.\"\"\"\u001b[39;00m\n\u001b[1;32m     15\u001b[0m     \u001b[38;5;28;01mreturn\u001b[39;00m Song(name\u001b[38;5;241m=\u001b[39mname, artist\u001b[38;5;241m=\u001b[39martist)\n\u001b[0;32m---> 18\u001b[0m tool \u001b[38;5;241m=\u001b[39m FunctionTool\u001b[38;5;241m.\u001b[39mfrom_defaults(fn\u001b[38;5;241m=\u001b[39m\u001b[43mgenerate_song\u001b[49m)\n",
      "\u001b[0;31mNameError\u001b[0m: name 'generate_song' is not defined"
     ]
    }
   ],
   "source": [
    "\n",
    "from pydantic import BaseModel\n",
    "from llama_index.llms.openai.utils import to_openai_tool\n",
    "from llama_index.core.tools import FunctionTool\n",
    "\n",
    "\n",
    "class Song(BaseModel):\n",
    "    \"\"\"A song with name and artist\"\"\"\n",
    "\n",
    "    name: str\n",
    "    artist: str\n",
    "\n",
    "\n",
    "def generate_song(name: str, artist: str) -> Song:\n",
    "    \"\"\"Generates a song with provided name and artist.\"\"\"\n",
    "    return Song(name=name, artist=artist)\n",
    "\n",
    "\n",
    "tool = FunctionTool.from_defaults(fn=generate_song)"
   ]
  },
  {
   "cell_type": "code",
   "execution_count": 10,
   "metadata": {},
   "outputs": [],
   "source": [
    "import wikipedia\n",
    "from pydantic import BaseModel\n",
    "# Disable caching in the wikipedia library\n",
    "wikipedia.set_rate_limiting(False)\n",
    "\n",
    "class WikiSearchResult(BaseModel):\n",
    "    title: str\n",
    "    url: str\n",
    "\n",
    "class WikiArticle(BaseModel):\n",
    "    title: str\n",
    "    content: str\n",
    "    url: str\n",
    "\n",
    "def wikipedia_similar_articles(query: str) -> list[WikiSearchResult]:\n",
    "    \"\"\"Search Wikipedia for articles similar to the given query and return titles and URLs.\"\"\"\n",
    "    search_results = wikipedia.search(query, results=15)\n",
    "    result_list = []\n",
    "    for result in search_results:\n",
    "        try:\n",
    "            page = wikipedia.page(result)\n",
    "            result_list.append(WikiSearchResult(title=page.title, url=page.url))\n",
    "        except wikipedia.exceptions.DisambiguationError as e:\n",
    "            # Handle disambiguation pages by logging or ignoring\n",
    "            print(f\"Disambiguation page: {e.options}\")\n",
    "        except wikipedia.exceptions.PageError:\n",
    "            print(f\"PageError: {result}\")\n",
    "    return result_list\n",
    "\n",
    "\n",
    "\n",
    "def wikipedia_full_article(query: str) -> WikiArticle:\n",
    "    \"\"\"Fetch the full Wikipedia article for the given query.\"\"\"\n",
    "    try:\n",
    "        page = wikipedia.page(query)\n",
    "        return WikiArticle(title=page.title, content=page.content, url=page.url)\n",
    "    except wikipedia.exceptions.DisambiguationError as e:\n",
    "        # Handle disambiguation pages\n",
    "        print(f\"Disambiguation page: {e.options}\")\n",
    "    except wikipedia.exceptions.PageError:\n",
    "        print(f\"PageError: {query}\")\n",
    "    return None\n"
   ]
  },
  {
   "cell_type": "code",
   "execution_count": 12,
   "metadata": {},
   "outputs": [
    {
     "name": "stdout",
     "output_type": "stream",
     "text": [
      "PageError: Donald Trump 2024 presidential campaign\n",
      "None\n"
     ]
    }
   ],
   "source": [
    "print(wikipedia_full_article(\"Donald Trump 2024 presidential campaign\"))"
   ]
  },
  {
   "cell_type": "code",
   "execution_count": 17,
   "metadata": {},
   "outputs": [
    {
     "name": "stdout",
     "output_type": "stream",
     "text": [
      "PageError: Thomas Matthew Crooks\n",
      "PageError: Kimberly Cheatle\n",
      "PageError: The Boys season 4\n",
      "[WikiSearchResult(title='Attempted assassination of Donald Trump', url='https://en.wikipedia.org/wiki/Attempted_assassination_of_Donald_Trump'), WikiSearchResult(title='Donald Trump raised-fist photographs', url='https://en.wikipedia.org/wiki/Donald_Trump_raised-fist_photographs'), WikiSearchResult(title='2016 Donald Trump Las Vegas rally incident', url='https://en.wikipedia.org/wiki/2016_Donald_Trump_Las_Vegas_rally_incident'), WikiSearchResult(title='Security incidents involving Donald Trump', url='https://en.wikipedia.org/wiki/Security_incidents_involving_Donald_Trump'), WikiSearchResult(title='Donald Trump', url='https://en.wikipedia.org/wiki/Donald_Trump'), WikiSearchResult(title='Attempted assassination of Donald Trump', url='https://en.wikipedia.org/wiki/Attempted_assassination_of_Donald_Trump'), WikiSearchResult(title='Meridian, Pennsylvania', url='https://en.wikipedia.org/wiki/Meridian,_Pennsylvania'), WikiSearchResult(title='Connoquenessing Township, Butler County, Pennsylvania', url='https://en.wikipedia.org/wiki/Connoquenessing_Township,_Butler_County,_Pennsylvania'), WikiSearchResult(title='Ronald L. Rowe Jr.', url='https://en.wikipedia.org/wiki/Ronald_L._Rowe_Jr.'), WikiSearchResult(title='Evan Vucci', url='https://en.wikipedia.org/wiki/Evan_Vucci'), WikiSearchResult(title='Timeline of the Joe Biden presidency', url='https://en.wikipedia.org/wiki/Timeline_of_the_Joe_Biden_presidency'), WikiSearchResult(title='Statewide opinion polling for the 2024 United States presidential election', url='https://en.wikipedia.org/wiki/Statewide_opinion_polling_for_the_2024_United_States_presidential_election')]\n"
     ]
    }
   ],
   "source": [
    "print(wikipedia_similar_articles(\"Attempted assassination of Donald Trump\"))"
   ]
  },
  {
   "cell_type": "markdown",
   "metadata": {},
   "source": [
    "Search returns PageErrors for many newly edited pages (maybe a caching issue?). Means our agent will struggle on queries related to current events.\n",
    "\n",
    "\n",
    "Also interesting that \"Attempted assassination of Donald Trump\" returns the shooter's name. Means search goes beyond TF-IDF/BM-25. Must incorporate tags/aliases or potentially semantic search."
   ]
  },
  {
   "cell_type": "code",
   "execution_count": null,
   "metadata": {},
   "outputs": [],
   "source": []
  },
  {
   "cell_type": "code",
   "execution_count": 29,
   "metadata": {},
   "outputs": [
    {
     "name": "stdout",
     "output_type": "stream",
     "text": [
      "Tool used: wikipedia_full_article\n",
      "Full Article:\n",
      "Title: Eiffel Tower\n",
      "Content: The Eiffel Tower (  EYE-fəl; French: Tour Eiffel [tuʁ ɛfɛl] ) is a wrought-iron lattice tower on the Champ de Mars in Paris, France. It is named after the engineer Gustave Eiffel, whose company designed and built the tower from 1887 to 1889.\n",
      "Locally nicknamed \"La dame de fer\" (French for \"Iron Lady\"), it was constructed as the centerpiece of the 1889 World's Fair, and to crown the centennial anniversary of the French Revolution. Although initially criticised by some of France's leading artists a...\n",
      "URL: https://en.wikipedia.org/wiki/Eiffel_Tower\n"
     ]
    }
   ],
   "source": [
    "import wikipedia\n",
    "from pydantic import BaseModel\n",
    "from llama_index.core.tools import FunctionTool\n",
    "from llama_index.llms.openai import OpenAI\n",
    "\n",
    "class WikiSearchResult(BaseModel):\n",
    "    title: str\n",
    "    url: str\n",
    "\n",
    "class WikiArticle(BaseModel):\n",
    "    title: str\n",
    "    content: str\n",
    "    url: str\n",
    "\n",
    "def wikipedia_similar_articles(query: str) -> list[WikiSearchResult]:\n",
    "    \"\"\"Search Wikipedia for articles similar to the given query and return titles and URLs.\"\"\"\n",
    "    search_results = wikipedia.search(query, results=5)\n",
    "    result_list = []\n",
    "    for result in search_results:\n",
    "        try:\n",
    "            page = wikipedia.page(result)\n",
    "            result_list.append(WikiSearchResult(title=page.title, url=page.url))\n",
    "        except wikipedia.exceptions.DisambiguationError as e:\n",
    "            # Handle disambiguation pages by logging or ignoring\n",
    "            print(f\"Disambiguation page: {e.options}\")\n",
    "        except wikipedia.exceptions.PageError:\n",
    "            print(f\"PageError: {result}\")\n",
    "    return result_list\n",
    "\n",
    "\n",
    "\n",
    "def wikipedia_full_article(query: str) -> WikiArticle:\n",
    "    \"\"\"Fetch the full Wikipedia article for the given query.\"\"\"\n",
    "    try:\n",
    "        page = wikipedia.page(query)\n",
    "        return WikiArticle(title=page.title, content=page.content, url=page.url)\n",
    "    except wikipedia.exceptions.DisambiguationError as e:\n",
    "        # Handle disambiguation pages\n",
    "        print(f\"Disambiguation page: {e.options}\")\n",
    "    except wikipedia.exceptions.PageError:\n",
    "        print(f\"PageError: {query}\")\n",
    "    return None\n",
    "\n",
    "# Wrap these functions in a tool\n",
    "similar_articles_tool = FunctionTool.from_defaults(fn=wikipedia_similar_articles)\n",
    "full_article_tool = FunctionTool.from_defaults(fn=wikipedia_full_article)\n",
    "\n",
    "\n",
    "# Now use the LLM to call this function\n",
    "llm = OpenAI(model=\"gpt-3.5-turbo\", strict=True)\n",
    "\n",
    "# query = \"Tell me a joke\"\n",
    "query = \"Tell me about the Eiffel Tower\"\n",
    "# query = \"Give me articles similar to 'Philosophy'\"\n",
    "# Call predict_and_call with both tools\n",
    "response = llm.predict_and_call(\n",
    "    [similar_articles_tool, full_article_tool],\n",
    "    query \n",
    ")\n",
    "\n",
    "# Process the response based on which tool was called\n",
    "if response.sources:  # Check if the response contains sources\n",
    "    for source in response.sources:\n",
    "        # Print the tool name that was used\n",
    "        print(f\"Tool used: {source.tool_name}\")\n",
    "\n",
    "        # Each source should contain the ToolOutput with the actual results\n",
    "        tool_output = source.raw_output\n",
    "\n",
    "        # Check which tool was used and process the result accordingly\n",
    "        if isinstance(tool_output, list) and all(isinstance(item, WikiSearchResult) for item in tool_output):\n",
    "            # This means the similar_articles_tool was used\n",
    "            print(\"Similar Articles:\")\n",
    "            for result in tool_output:\n",
    "                print(f\"Title: {result.title}, URL: {result.url}\")\n",
    "        \n",
    "        elif isinstance(tool_output, WikiArticle):\n",
    "            # This means the full_article_tool was used\n",
    "            print(\"Full Article:\")\n",
    "            print(f\"Title: {tool_output.title}\")\n",
    "            print(f\"Content: {tool_output.content[:500]}...\")  # Print the first 500 characters\n",
    "            print(f\"URL: {tool_output.url}\")\n",
    "else:\n",
    "    print(\"No tool output was returned.\")\n"
   ]
  },
  {
   "cell_type": "code",
   "execution_count": null,
   "metadata": {},
   "outputs": [],
   "source": []
  }
 ],
 "metadata": {
  "kernelspec": {
   "display_name": "wiki_search_env",
   "language": "python",
   "name": "python3"
  },
  "language_info": {
   "codemirror_mode": {
    "name": "ipython",
    "version": 3
   },
   "file_extension": ".py",
   "mimetype": "text/x-python",
   "name": "python",
   "nbconvert_exporter": "python",
   "pygments_lexer": "ipython3",
   "version": "3.9.9"
  }
 },
 "nbformat": 4,
 "nbformat_minor": 2
}
